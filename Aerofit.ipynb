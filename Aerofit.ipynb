{
 "cells": [
  {
   "cell_type": "markdown",
   "id": "4427aaab",
   "metadata": {},
   "source": [
    "# Importing Libraries "
   ]
  },
  {
   "cell_type": "code",
   "execution_count": 48,
   "id": "40c7340c",
   "metadata": {},
   "outputs": [],
   "source": [
    "import pandas as pd\n",
    "import numpy as np\n",
    "import matplotlib.pyplot as plt\n",
    "import seaborn as sns \n",
    "from scipy.stats import poisson,binom,expon,norm"
   ]
  },
  {
   "cell_type": "markdown",
   "id": "a5a04dc0",
   "metadata": {},
   "source": [
    "# Loading DataSet"
   ]
  },
  {
   "cell_type": "code",
   "execution_count": 2,
   "id": "bf04ab7c",
   "metadata": {},
   "outputs": [
    {
     "data": {
      "text/html": [
       "<div>\n",
       "<style scoped>\n",
       "    .dataframe tbody tr th:only-of-type {\n",
       "        vertical-align: middle;\n",
       "    }\n",
       "\n",
       "    .dataframe tbody tr th {\n",
       "        vertical-align: top;\n",
       "    }\n",
       "\n",
       "    .dataframe thead th {\n",
       "        text-align: right;\n",
       "    }\n",
       "</style>\n",
       "<table border=\"1\" class=\"dataframe\">\n",
       "  <thead>\n",
       "    <tr style=\"text-align: right;\">\n",
       "      <th></th>\n",
       "      <th>Product</th>\n",
       "      <th>Age</th>\n",
       "      <th>Gender</th>\n",
       "      <th>Education</th>\n",
       "      <th>MaritalStatus</th>\n",
       "      <th>Usage</th>\n",
       "      <th>Fitness</th>\n",
       "      <th>Income</th>\n",
       "      <th>Miles</th>\n",
       "    </tr>\n",
       "  </thead>\n",
       "  <tbody>\n",
       "    <tr>\n",
       "      <th>0</th>\n",
       "      <td>KP281</td>\n",
       "      <td>18</td>\n",
       "      <td>Male</td>\n",
       "      <td>14</td>\n",
       "      <td>Single</td>\n",
       "      <td>3</td>\n",
       "      <td>4</td>\n",
       "      <td>29562</td>\n",
       "      <td>112</td>\n",
       "    </tr>\n",
       "    <tr>\n",
       "      <th>1</th>\n",
       "      <td>KP281</td>\n",
       "      <td>19</td>\n",
       "      <td>Male</td>\n",
       "      <td>15</td>\n",
       "      <td>Single</td>\n",
       "      <td>2</td>\n",
       "      <td>3</td>\n",
       "      <td>31836</td>\n",
       "      <td>75</td>\n",
       "    </tr>\n",
       "    <tr>\n",
       "      <th>2</th>\n",
       "      <td>KP281</td>\n",
       "      <td>19</td>\n",
       "      <td>Female</td>\n",
       "      <td>14</td>\n",
       "      <td>Partnered</td>\n",
       "      <td>4</td>\n",
       "      <td>3</td>\n",
       "      <td>30699</td>\n",
       "      <td>66</td>\n",
       "    </tr>\n",
       "    <tr>\n",
       "      <th>3</th>\n",
       "      <td>KP281</td>\n",
       "      <td>19</td>\n",
       "      <td>Male</td>\n",
       "      <td>12</td>\n",
       "      <td>Single</td>\n",
       "      <td>3</td>\n",
       "      <td>3</td>\n",
       "      <td>32973</td>\n",
       "      <td>85</td>\n",
       "    </tr>\n",
       "    <tr>\n",
       "      <th>4</th>\n",
       "      <td>KP281</td>\n",
       "      <td>20</td>\n",
       "      <td>Male</td>\n",
       "      <td>13</td>\n",
       "      <td>Partnered</td>\n",
       "      <td>4</td>\n",
       "      <td>2</td>\n",
       "      <td>35247</td>\n",
       "      <td>47</td>\n",
       "    </tr>\n",
       "  </tbody>\n",
       "</table>\n",
       "</div>"
      ],
      "text/plain": [
       "  Product  Age  Gender  Education MaritalStatus  Usage  Fitness  Income  Miles\n",
       "0   KP281   18    Male         14        Single      3        4   29562    112\n",
       "1   KP281   19    Male         15        Single      2        3   31836     75\n",
       "2   KP281   19  Female         14     Partnered      4        3   30699     66\n",
       "3   KP281   19    Male         12        Single      3        3   32973     85\n",
       "4   KP281   20    Male         13     Partnered      4        2   35247     47"
      ]
     },
     "execution_count": 2,
     "metadata": {},
     "output_type": "execute_result"
    }
   ],
   "source": [
    "df = pd.read_csv('aerofit_treadmill.txt')\n",
    "df.head()"
   ]
  },
  {
   "cell_type": "markdown",
   "id": "65eafe9a",
   "metadata": {},
   "source": [
    "# Checking Shape of data\n",
    "# DataSet has 180 rows and 9 columns"
   ]
  },
  {
   "cell_type": "code",
   "execution_count": 3,
   "id": "6ac01439",
   "metadata": {},
   "outputs": [
    {
     "data": {
      "text/plain": [
       "(180, 9)"
      ]
     },
     "execution_count": 3,
     "metadata": {},
     "output_type": "execute_result"
    }
   ],
   "source": [
    "df.shape"
   ]
  },
  {
   "cell_type": "markdown",
   "id": "efceb0bf",
   "metadata": {},
   "source": [
    "# Checking DataType and Other info in Columns "
   ]
  },
  {
   "cell_type": "code",
   "execution_count": 4,
   "id": "9fb33170",
   "metadata": {},
   "outputs": [
    {
     "name": "stdout",
     "output_type": "stream",
     "text": [
      "<class 'pandas.core.frame.DataFrame'>\n",
      "RangeIndex: 180 entries, 0 to 179\n",
      "Data columns (total 9 columns):\n",
      " #   Column         Non-Null Count  Dtype \n",
      "---  ------         --------------  ----- \n",
      " 0   Product        180 non-null    object\n",
      " 1   Age            180 non-null    int64 \n",
      " 2   Gender         180 non-null    object\n",
      " 3   Education      180 non-null    int64 \n",
      " 4   MaritalStatus  180 non-null    object\n",
      " 5   Usage          180 non-null    int64 \n",
      " 6   Fitness        180 non-null    int64 \n",
      " 7   Income         180 non-null    int64 \n",
      " 8   Miles          180 non-null    int64 \n",
      "dtypes: int64(6), object(3)\n",
      "memory usage: 12.8+ KB\n"
     ]
    }
   ],
   "source": [
    "df.info()"
   ]
  },
  {
   "cell_type": "markdown",
   "id": "1d04015d",
   "metadata": {},
   "source": [
    "# Statistical Summary summary of Columns Containing numarical values"
   ]
  },
  {
   "cell_type": "code",
   "execution_count": 5,
   "id": "76e27fb2",
   "metadata": {},
   "outputs": [
    {
     "data": {
      "text/html": [
       "<div>\n",
       "<style scoped>\n",
       "    .dataframe tbody tr th:only-of-type {\n",
       "        vertical-align: middle;\n",
       "    }\n",
       "\n",
       "    .dataframe tbody tr th {\n",
       "        vertical-align: top;\n",
       "    }\n",
       "\n",
       "    .dataframe thead th {\n",
       "        text-align: right;\n",
       "    }\n",
       "</style>\n",
       "<table border=\"1\" class=\"dataframe\">\n",
       "  <thead>\n",
       "    <tr style=\"text-align: right;\">\n",
       "      <th></th>\n",
       "      <th>Age</th>\n",
       "      <th>Education</th>\n",
       "      <th>Usage</th>\n",
       "      <th>Fitness</th>\n",
       "      <th>Income</th>\n",
       "      <th>Miles</th>\n",
       "    </tr>\n",
       "  </thead>\n",
       "  <tbody>\n",
       "    <tr>\n",
       "      <th>count</th>\n",
       "      <td>180.000000</td>\n",
       "      <td>180.000000</td>\n",
       "      <td>180.000000</td>\n",
       "      <td>180.000000</td>\n",
       "      <td>180.000000</td>\n",
       "      <td>180.000000</td>\n",
       "    </tr>\n",
       "    <tr>\n",
       "      <th>mean</th>\n",
       "      <td>28.788889</td>\n",
       "      <td>15.572222</td>\n",
       "      <td>3.455556</td>\n",
       "      <td>3.311111</td>\n",
       "      <td>53719.577778</td>\n",
       "      <td>103.194444</td>\n",
       "    </tr>\n",
       "    <tr>\n",
       "      <th>std</th>\n",
       "      <td>6.943498</td>\n",
       "      <td>1.617055</td>\n",
       "      <td>1.084797</td>\n",
       "      <td>0.958869</td>\n",
       "      <td>16506.684226</td>\n",
       "      <td>51.863605</td>\n",
       "    </tr>\n",
       "    <tr>\n",
       "      <th>min</th>\n",
       "      <td>18.000000</td>\n",
       "      <td>12.000000</td>\n",
       "      <td>2.000000</td>\n",
       "      <td>1.000000</td>\n",
       "      <td>29562.000000</td>\n",
       "      <td>21.000000</td>\n",
       "    </tr>\n",
       "    <tr>\n",
       "      <th>25%</th>\n",
       "      <td>24.000000</td>\n",
       "      <td>14.000000</td>\n",
       "      <td>3.000000</td>\n",
       "      <td>3.000000</td>\n",
       "      <td>44058.750000</td>\n",
       "      <td>66.000000</td>\n",
       "    </tr>\n",
       "    <tr>\n",
       "      <th>50%</th>\n",
       "      <td>26.000000</td>\n",
       "      <td>16.000000</td>\n",
       "      <td>3.000000</td>\n",
       "      <td>3.000000</td>\n",
       "      <td>50596.500000</td>\n",
       "      <td>94.000000</td>\n",
       "    </tr>\n",
       "    <tr>\n",
       "      <th>75%</th>\n",
       "      <td>33.000000</td>\n",
       "      <td>16.000000</td>\n",
       "      <td>4.000000</td>\n",
       "      <td>4.000000</td>\n",
       "      <td>58668.000000</td>\n",
       "      <td>114.750000</td>\n",
       "    </tr>\n",
       "    <tr>\n",
       "      <th>max</th>\n",
       "      <td>50.000000</td>\n",
       "      <td>21.000000</td>\n",
       "      <td>7.000000</td>\n",
       "      <td>5.000000</td>\n",
       "      <td>104581.000000</td>\n",
       "      <td>360.000000</td>\n",
       "    </tr>\n",
       "  </tbody>\n",
       "</table>\n",
       "</div>"
      ],
      "text/plain": [
       "              Age   Education       Usage     Fitness         Income  \\\n",
       "count  180.000000  180.000000  180.000000  180.000000     180.000000   \n",
       "mean    28.788889   15.572222    3.455556    3.311111   53719.577778   \n",
       "std      6.943498    1.617055    1.084797    0.958869   16506.684226   \n",
       "min     18.000000   12.000000    2.000000    1.000000   29562.000000   \n",
       "25%     24.000000   14.000000    3.000000    3.000000   44058.750000   \n",
       "50%     26.000000   16.000000    3.000000    3.000000   50596.500000   \n",
       "75%     33.000000   16.000000    4.000000    4.000000   58668.000000   \n",
       "max     50.000000   21.000000    7.000000    5.000000  104581.000000   \n",
       "\n",
       "            Miles  \n",
       "count  180.000000  \n",
       "mean   103.194444  \n",
       "std     51.863605  \n",
       "min     21.000000  \n",
       "25%     66.000000  \n",
       "50%     94.000000  \n",
       "75%    114.750000  \n",
       "max    360.000000  "
      ]
     },
     "execution_count": 5,
     "metadata": {},
     "output_type": "execute_result"
    }
   ],
   "source": [
    "df.describe()"
   ]
  },
  {
   "cell_type": "markdown",
   "id": "49d5a594",
   "metadata": {},
   "source": [
    "# Checking for missing values \n",
    "# Dataset has no missing value"
   ]
  },
  {
   "cell_type": "code",
   "execution_count": 6,
   "id": "13cf7972",
   "metadata": {},
   "outputs": [
    {
     "data": {
      "text/plain": [
       "Product          0\n",
       "Age              0\n",
       "Gender           0\n",
       "Education        0\n",
       "MaritalStatus    0\n",
       "Usage            0\n",
       "Fitness          0\n",
       "Income           0\n",
       "Miles            0\n",
       "dtype: int64"
      ]
     },
     "execution_count": 6,
     "metadata": {},
     "output_type": "execute_result"
    }
   ],
   "source": [
    "df.isnull().sum()"
   ]
  },
  {
   "cell_type": "markdown",
   "id": "5b961997",
   "metadata": {},
   "source": [
    "# Heapmap below is showcasing correlation between columns values near 0 means weak correlation while near 1 or 1 means strong"
   ]
  },
  {
   "cell_type": "code",
   "execution_count": 7,
   "id": "4a6e226c",
   "metadata": {},
   "outputs": [
    {
     "data": {
      "text/plain": [
       "<AxesSubplot:>"
      ]
     },
     "execution_count": 7,
     "metadata": {},
     "output_type": "execute_result"
    },
    {
     "data": {
      "image/png": "[encoded data removed]",
      "text/plain": [
       "<Figure size 432x288 with 2 Axes>"
      ]
     },
     "metadata": {
      "needs_background": "light"
     },
     "output_type": "display_data"
    }
   ],
   "source": [
    "corr_matrix = df.corr()\n",
    "sns.heatmap(corr_matrix, annot=True)"
   ]
  },
  {
   "cell_type": "code",
   "execution_count": 8,
   "id": "ba269d53",
   "metadata": {},
   "outputs": [
    {
     "data": {
      "text/plain": [
       "Index(['Product', 'Age', 'Gender', 'Education', 'MaritalStatus', 'Usage',\n",
       "       'Fitness', 'Income', 'Miles'],\n",
       "      dtype='object')"
      ]
     },
     "execution_count": 8,
     "metadata": {},
     "output_type": "execute_result"
    }
   ],
   "source": [
    "df.columns"
   ]
  },
  {
   "cell_type": "code",
   "execution_count": 9,
   "id": "d621b39e",
   "metadata": {},
   "outputs": [
    {
     "data": {
      "text/plain": [
       "array([18, 19, 20, 21, 22, 23, 24, 25, 26, 27, 28, 29, 30, 31, 32, 33, 34,\n",
       "       35, 36, 37, 38, 39, 40, 41, 43, 44, 46, 47, 50, 45, 48, 42],\n",
       "      dtype=int64)"
      ]
     },
     "execution_count": 9,
     "metadata": {},
     "output_type": "execute_result"
    }
   ],
   "source": [
    "df['Age'].unique()"
   ]
  },
  {
   "cell_type": "markdown",
   "id": "3e35c083",
   "metadata": {},
   "source": [
    "# People of age between 22-26 are more likly to use treadmill"
   ]
  },
  {
   "cell_type": "code",
   "execution_count": 10,
   "id": "4e97cc12",
   "metadata": {},
   "outputs": [
    {
     "data": {
      "text/plain": [
       "<AxesSubplot:xlabel='Age', ylabel='Count'>"
      ]
     },
     "execution_count": 10,
     "metadata": {},
     "output_type": "execute_result"
    },
    {
     "data": {
      "image/png": "[encoded data removed]",
      "text/plain": [
       "<Figure size 432x288 with 1 Axes>"
      ]
     },
     "metadata": {
      "needs_background": "light"
     },
     "output_type": "display_data"
    }
   ],
   "source": [
    "sns.histplot(x='Age',bins = [18,22,26,30,34,38,42,46,50,54],kde = True,data=df)"
   ]
  },
  {
   "cell_type": "markdown",
   "id": "41f2b5a3",
   "metadata": {},
   "source": [
    "# Count of Single and Partnered Male and Female"
   ]
  },
  {
   "cell_type": "code",
   "execution_count": 11,
   "id": "0701f40e",
   "metadata": {},
   "outputs": [
    {
     "data": {
      "text/plain": [
       "<AxesSubplot:xlabel='Gender', ylabel='count'>"
      ]
     },
     "execution_count": 11,
     "metadata": {},
     "output_type": "execute_result"
    },
    {
     "data": {
      "image/png": "[encoded data removed]",
      "text/plain": [
       "<Figure size 432x288 with 1 Axes>"
      ]
     },
     "metadata": {
      "needs_background": "light"
     },
     "output_type": "display_data"
    }
   ],
   "source": [
    "sns.countplot(x='Gender',hue='MaritalStatus',data=df)"
   ]
  },
  {
   "cell_type": "markdown",
   "id": "f54c440d",
   "metadata": {},
   "source": [
    "# Checking for outliers in Miles\n",
    "# Miles has 8 outliers"
   ]
  },
  {
   "cell_type": "code",
   "execution_count": null,
   "id": "5e4a0afe",
   "metadata": {},
   "outputs": [],
   "source": []
  },
  {
   "cell_type": "code",
   "execution_count": 12,
   "id": "e6477985",
   "metadata": {},
   "outputs": [
    {
     "data": {
      "text/plain": [
       "<AxesSubplot:xlabel='Miles'>"
      ]
     },
     "execution_count": 12,
     "metadata": {},
     "output_type": "execute_result"
    },
    {
     "data": {
      "image/png": "[encoded data removed]",
      "text/plain": [
       "<Figure size 432x288 with 1 Axes>"
      ]
     },
     "metadata": {
      "needs_background": "light"
     },
     "output_type": "display_data"
    }
   ],
   "source": [
    "sns.boxplot(x='Miles',data = df)"
   ]
  },
  {
   "cell_type": "markdown",
   "id": "8eecfd91",
   "metadata": {},
   "source": [
    "# Checking for outliers in Miles\n",
    "# Miles has 11 outliers"
   ]
  },
  {
   "cell_type": "code",
   "execution_count": 13,
   "id": "2bff372b",
   "metadata": {},
   "outputs": [
    {
     "data": {
      "text/plain": [
       "<AxesSubplot:xlabel='Income'>"
      ]
     },
     "execution_count": 13,
     "metadata": {},
     "output_type": "execute_result"
    },
    {
     "data": {
      "image/png": "[encoded data removed]",
      "text/plain": [
       "<Figure size 432x288 with 1 Axes>"
      ]
     },
     "metadata": {
      "needs_background": "light"
     },
     "output_type": "display_data"
    }
   ],
   "source": [
    "sns.boxplot(x='Income',color = 'yellow',data = df)"
   ]
  },
  {
   "cell_type": "markdown",
   "id": "50de3ba3",
   "metadata": {},
   "source": [
    "# Popularity of Various Product among male and female\n",
    "# insight: KP781 is least popuar among female and KP281 is equally liked by both male and female"
   ]
  },
  {
   "cell_type": "code",
   "execution_count": 14,
   "id": "a403b421",
   "metadata": {},
   "outputs": [
    {
     "data": {
      "text/plain": [
       "<AxesSubplot:xlabel='Product', ylabel='count'>"
      ]
     },
     "execution_count": 14,
     "metadata": {},
     "output_type": "execute_result"
    },
    {
     "data": {
      "image/png": "[encoded data removed]",
      "text/plain": [
       "<Figure size 432x288 with 1 Axes>"
      ]
     },
     "metadata": {
      "needs_background": "light"
     },
     "output_type": "display_data"
    }
   ],
   "source": [
    "sns.countplot(x='Product',hue='Gender',data=df)"
   ]
  },
  {
   "cell_type": "markdown",
   "id": "cfadc51d",
   "metadata": {},
   "source": [
    "# Probability of Males and Females buying each product \n",
    "# Insight: Females are unlikly to buy product KP781"
   ]
  },
  {
   "cell_type": "code",
   "execution_count": 15,
   "id": "77420a5a",
   "metadata": {},
   "outputs": [
    {
     "name": "stdout",
     "output_type": "stream",
     "text": [
      "Probability of Male buying KP281 treadmill is  0.5\n",
      "Probability of Female buying KP281 treadmill is  0.5\n",
      "\n",
      "Probability of Male buying KP481 treadmill is  0.52\n",
      "Probability of Female buying KP481 treadmill is  0.48\n",
      "\n",
      "Probability of Male buying KP781 treadmill is  0.82\n",
      "Probability of Female buying KP781 treadmill is  0.17\n"
     ]
    }
   ],
   "source": [
    "# Probability of Males and Females buying each product \n",
    "# Males & Female buying KP281 \n",
    "\n",
    "P_281 = df.loc[df['Product']=='KP281']\n",
    "M_281 = P_281[P_281['Gender']=='Male']\n",
    "F_281 = P_281[P_281['Gender']=='Female']\n",
    "print('Probability of Male buying KP281 treadmill is ',round(len(M_281)/len(P_281),2))\n",
    "print('Probability of Female buying KP281 treadmill is ',round(len(F_281)/len(P_281),2))\n",
    "print()\n",
    "P_481 = df.loc[df['Product']=='KP481']\n",
    "M_481 = P_481[P_481['Gender']=='Male']\n",
    "F_481 = P_481[P_481['Gender']=='Female']\n",
    "print('Probability of Male buying KP481 treadmill is ',round(len(M_481)/len(P_481),2))\n",
    "print('Probability of Female buying KP481 treadmill is ',round(len(F_481)/len(P_481),2))\n",
    "print()\n",
    "P_781 = df.loc[df['Product']=='KP781']\n",
    "M_781 = P_781[P_781['Gender']=='Male']\n",
    "F_781 = P_781[P_781['Gender']=='Female']\n",
    "print('Probability of Male buying KP781 treadmill is ',round(len(M_781)/len(P_781),2))\n",
    "print('Probability of Female buying KP781 treadmill is ',round(len(F_781)/len(P_781),2))"
   ]
  },
  {
   "cell_type": "markdown",
   "id": "25c6de46",
   "metadata": {},
   "source": [
    "# Popularity of Various Product among Single and Partnered\n",
    "# Insights Partnered people are more inclined towards buying Treadmill "
   ]
  },
  {
   "cell_type": "code",
   "execution_count": 16,
   "id": "6091d63c",
   "metadata": {},
   "outputs": [
    {
     "data": {
      "text/plain": [
       "<AxesSubplot:xlabel='Product', ylabel='count'>"
      ]
     },
     "execution_count": 16,
     "metadata": {},
     "output_type": "execute_result"
    },
    {
     "data": {
      "image/png": "[encoded data removed]",
      "text/plain": [
       "<Figure size 432x288 with 1 Axes>"
      ]
     },
     "metadata": {
      "needs_background": "light"
     },
     "output_type": "display_data"
    }
   ],
   "source": [
    "sns.countplot(x='Product',hue='MaritalStatus',data=df)"
   ]
  },
  {
   "cell_type": "markdown",
   "id": "357104e0",
   "metadata": {},
   "source": [
    "# Partnered People are more inclined towards buying Treadmill "
   ]
  },
  {
   "cell_type": "code",
   "execution_count": 63,
   "id": "37352a04",
   "metadata": {},
   "outputs": [
    {
     "name": "stdout",
     "output_type": "stream",
     "text": [
      "Probability of Single buying KP281 treadmill is  0.4\n",
      "Probability of Partnered buying KP281 treadmill is  0.6\n",
      "\n",
      "Probability of Single buying KP481 treadmill is  0.4\n",
      "Probability of Partnered buying KP481 treadmill is  0.6\n",
      "\n",
      "Probability of Single buying KP781 treadmill is  0.42\n",
      "Probability of Partnered buying KP781 treadmill is  0.57\n"
     ]
    }
   ],
   "source": [
    "# Probability of Single and Partnered buying each product \n",
    "# Single & Partnered buying KP281 \n",
    "\n",
    "PM_281 = df.loc[df['Product']=='KP281']\n",
    "S_281 = PM_281[PM_281['MaritalStatus']=='Single']\n",
    "P_281 = PM_281[PM_281['MaritalStatus']=='Partnered']\n",
    "print('Probability of Single buying KP281 treadmill is ',round(len(S_281)/len(PM_281),2))\n",
    "print('Probability of Partnered buying KP281 treadmill is ',round(len(P_281)/len(PM_281),2))\n",
    "print()\n",
    "# Single & Partnered buying KP481\n",
    "PM_481 = df.loc[df['Product']=='KP481']\n",
    "S_481 = PM_481[PM_481['MaritalStatus']=='Single']\n",
    "P_481 = PM_481[PM_481['MaritalStatus']=='Partnered']\n",
    "print('Probability of Single buying KP481 treadmill is ',round(len(S_481)/len(PM_481),2))\n",
    "print('Probability of Partnered buying KP481 treadmill is ',round(len(P_481)/len(PM_481),2))\n",
    "print()\n",
    "PM_781 = df.loc[df['Product']=='KP781']\n",
    "S_781 = PM_781[PM_781['MaritalStatus']=='Single']\n",
    "P_781 = PM_781[PM_781['MaritalStatus']=='Partnered']\n",
    "print('Probability of Single buying KP781 treadmill is ',round(len(S_781)/len(PM_781),2))\n",
    "print('Probability of Partnered buying KP781 treadmill is ',round(len(P_781)/len(PM_781),2))"
   ]
  },
  {
   "cell_type": "markdown",
   "id": "4936b589",
   "metadata": {},
   "source": [
    "# Distribution of count of people based on Income "
   ]
  },
  {
   "cell_type": "code",
   "execution_count": 146,
   "id": "c20a18f3",
   "metadata": {},
   "outputs": [
    {
     "data": {
      "text/plain": [
       "<AxesSubplot:xlabel='Income', ylabel='Count'>"
      ]
     },
     "execution_count": 146,
     "metadata": {},
     "output_type": "execute_result"
    },
    {
     "data": {
      "image/png": "[encoded data removed]",
      "text/plain": [
       "<Figure size 432x288 with 1 Axes>"
      ]
     },
     "metadata": {
      "needs_background": "light"
     },
     "output_type": "display_data"
    }
   ],
   "source": [
    "sns.histplot(x='Income',bins=15,hue='Product',kde=True,data=df)"
   ]
  },
  {
   "cell_type": "markdown",
   "id": "7fc6da07",
   "metadata": {},
   "source": [
    "# Probability of people buying a product based on their income \n",
    "# Insights: People with lower income are more likly to buy KP281 while people                      with higher income are more likly to buy KP781"
   ]
  },
  {
   "cell_type": "code",
   "execution_count": 64,
   "id": "52fdfd1c",
   "metadata": {},
   "outputs": [
    {
     "name": "stdout",
     "output_type": "stream",
     "text": [
      "Probability of people having salary b/w 30k and 60k and buying Treadmill KP281 is  0.53\n",
      "Probability of people having salary b/w 30k and 60k and buying Treadmill KP481 is  0.39\n",
      "Probability of people having salary b/w 30k and 60k and buying Treadmill KP781 is  0.08\n",
      "\n",
      "Probability of people having salary b/w 60k and 90k and buying Treadmill KP281 is  0.2\n",
      "Probability of people having salary b/w 60k and 90k and buying Treadmill KP481 is  0.23\n",
      "Probability of people having salary b/w 60k and 90k and buying Treadmill KP781 is  0.57\n",
      "\n",
      "Probability of people having salary b/w 90k and 104k and buying Treadmill KP281 is  0.0\n",
      "Probability of people having salary b/w 90k and 104k and buying Treadmill KP481 is  0.0\n",
      "Probability of people having salary b/w 90k and 104k and buying Treadmill KP781 is  1.0\n"
     ]
    }
   ],
   "source": [
    "mid_income = df.loc[((df['Income']>=30000)& (df['Income']<=60000)),:]\n",
    "M_281 = mid_income[mid_income['Product']=='KP281']\n",
    "M_481 = mid_income[mid_income['Product']=='KP481']\n",
    "M_781 = mid_income[mid_income['Product']=='KP781']\n",
    "print('Probability of people having salary b/w 30k and 60k and buying Treadmill KP281 is ',round(len(M_281)/len(mid_income),2))\n",
    "print('Probability of people having salary b/w 30k and 60k and buying Treadmill KP481 is ',round(len(M_481)/len(mid_income),2))\n",
    "print('Probability of people having salary b/w 30k and 60k and buying Treadmill KP781 is ',round(len(M_781)/len(mid_income),2))\n",
    "print()\n",
    "good_income = df.loc[((df['Income']>=60000)& (df['Income']<=90000)),:]\n",
    "G_281 = good_income[good_income['Product']=='KP281']\n",
    "G_481 = good_income[good_income['Product']=='KP481']\n",
    "G_781 = good_income[good_income['Product']=='KP781']\n",
    "print('Probability of people having salary b/w 60k and 90k and buying Treadmill KP281 is ',round(len(G_281)/len(good_income),2))\n",
    "print('Probability of people having salary b/w 60k and 90k and buying Treadmill KP481 is ',round(len(G_481)/len(good_income),2))\n",
    "print('Probability of people having salary b/w 60k and 90k and buying Treadmill KP781 is ',round(len(G_781)/len(good_income),2))\n",
    "print()\n",
    "high_income = df.loc[((df['Income']>=90000)& (df['Income']<=104581)),:]\n",
    "H_281 = high_income[high_income['Product']=='KP281']\n",
    "H_481 = high_income[high_income['Product']=='KP481']\n",
    "H_781 = high_income[high_income['Product']=='KP781']\n",
    "print('Probability of people having salary b/w 90k and 104k and buying Treadmill KP281 is ',round(len(H_281)/len(high_income),2))\n",
    "print('Probability of people having salary b/w 90k and 104k and buying Treadmill KP481 is ',round(len(H_481)/len(high_income),2))\n",
    "print('Probability of people having salary b/w 90k and 104k and buying Treadmill KP781 is ',round(len(H_781)/len(high_income),2))"
   ]
  },
  {
   "cell_type": "markdown",
   "id": "3727862f",
   "metadata": {},
   "source": [
    "# Distribution of People based on Fitness rating where 1 is low and 5 is highly Fit\n",
    "# insight People having Fitness of 4-5 have higher probability of buying KP781 "
   ]
  },
  {
   "cell_type": "code",
   "execution_count": 21,
   "id": "f732e1f9",
   "metadata": {},
   "outputs": [
    {
     "data": {
      "text/plain": [
       "<AxesSubplot:xlabel='Fitness', ylabel='count'>"
      ]
     },
     "execution_count": 21,
     "metadata": {},
     "output_type": "execute_result"
    },
    {
     "data": {
      "image/png": "[encoded data removed]",
      "text/plain": [
       "<Figure size 432x288 with 1 Axes>"
      ]
     },
     "metadata": {
      "needs_background": "light"
     },
     "output_type": "display_data"
    }
   ],
   "source": [
    "sns.countplot(x='Fitness',data=df)"
   ]
  },
  {
   "cell_type": "code",
   "execution_count": 33,
   "id": "b2bcace8",
   "metadata": {},
   "outputs": [
    {
     "name": "stdout",
     "output_type": "stream",
     "text": [
      "Probability of Person using KP281 given that person is Fit is  0.56\n",
      "Probability of Person using KP481 given that person is Fit is  0.4\n",
      "Probability of Person using KP781 given that person is Fit is  0.04\n",
      "\n",
      "Probability of Person using KP281 given that person is Fit is  0.2\n",
      "Probability of Person using KP481 given that person is Fit is  0.15\n",
      "Probability of Person using KP781 given that person is Fit is  0.65\n"
     ]
    }
   ],
   "source": [
    "F_3 = df[df['Fitness']==3]\n",
    "F_K281 = F_3[F_3['Product']=='KP281']\n",
    "print('Probability of Person using KP281 given that person is Fit is ', round(len(F_K281)/len(F_3),2))\n",
    "F_K481 = F_3[F_3['Product']=='KP481']\n",
    "print('Probability of Person using KP481 given that person is Fit is ', round(len(F_K481)/len(F_3),2))\n",
    "F_K781 = F_3[F_3['Product']=='KP781']\n",
    "print('Probability of Person using KP781 given that person is Fit is ', round(len(F_K781)/len(F_3),2))\n",
    "print()\n",
    "F_4_5 = df[(df['Fitness']==4)|(df['Fitness']==5)]\n",
    "F_p281 = F_4_5[F_4_5['Product']=='KP281']\n",
    "print('Probability of Person using KP281 given that person is Fit is ', round(len(F_p281)/len(F_4_5),2))\n",
    "F_p481 = F_4_5[F_4_5['Product']=='KP481']\n",
    "print('Probability of Person using KP481 given that person is Fit is ', round(len(F_p481)/len(F_4_5),2))\n",
    "F_p781 = F_4_5[F_4_5['Product']=='KP781']\n",
    "print('Probability of Person using KP781 given that person is Fit is ', round(len(F_p781)/len(F_4_5),2))\n"
   ]
  },
  {
   "cell_type": "markdown",
   "id": "3f84644b",
   "metadata": {},
   "source": [
    "# Probability of People buying trademill based on their fitness \n",
    "# insights: People having higher fitness have more probability of buying a                                          treadmill "
   ]
  },
  {
   "cell_type": "code",
   "execution_count": 40,
   "id": "379b781e",
   "metadata": {},
   "outputs": [
    {
     "name": "stdout",
     "output_type": "stream",
     "text": [
      "probability of person buying treadmill and having fitness below 2 is 0.16\n",
      "\n",
      "probability of person buying treadmill and having fitness above 2 is 0.84\n"
     ]
    }
   ],
   "source": [
    "prob_1_2 = round(len(df[(df['Fitness']==1)|(df['Fitness']==2)])/len(df),2)\n",
    "prob_3_5 = round(len(df[df['Fitness']>2])/len(df),2)\n",
    "print('probability of person buying treadmill and having fitness below 2 is',prob_1_2)\n",
    "print()\n",
    "print('probability of person buying treadmill and having fitness above 2 is',prob_3_5)"
   ]
  },
  {
   "cell_type": "markdown",
   "id": "737a934d",
   "metadata": {},
   "source": [
    "# Distribution of people count based Usage "
   ]
  },
  {
   "cell_type": "code",
   "execution_count": 54,
   "id": "34712429",
   "metadata": {},
   "outputs": [
    {
     "data": {
      "text/plain": [
       "<AxesSubplot:xlabel='Usage', ylabel='count'>"
      ]
     },
     "execution_count": 54,
     "metadata": {},
     "output_type": "execute_result"
    },
    {
     "data": {
      "image/png": "[encoded data removed]",
      "text/plain": [
       "<Figure size 432x288 with 1 Axes>"
      ]
     },
     "metadata": {
      "needs_background": "light"
     },
     "output_type": "display_data"
    }
   ],
   "source": [
    "sns.countplot(x='Usage',data=df)"
   ]
  },
  {
   "cell_type": "markdown",
   "id": "fd6f16b8",
   "metadata": {},
   "source": [
    "# Insight People having high fitness and good habbit of using treadmill has higher probability of buyin KP781"
   ]
  },
  {
   "cell_type": "code",
   "execution_count": 62,
   "id": "b82627fc",
   "metadata": {},
   "outputs": [
    {
     "name": "stdout",
     "output_type": "stream",
     "text": [
      "Probability of People buying KP781 having fitness 4-5 and usage habit of more than 3 days is  0.8\n"
     ]
    }
   ],
   "source": [
    "U_F = df[(df['Usage']>3)&(df['Fitness']>3)]\n",
    "U_781 = U_F[U_F['Product']=='KP781']\n",
    "print('Probability of People buying KP781 having fitness 4-5 and usage habit of more than 3 days is ',round(len(U_781)/len(U_F),2))"
   ]
  },
  {
   "cell_type": "markdown",
   "id": "a4c8a479",
   "metadata": {},
   "source": [
    "# Reccomendations\n",
    "# 1. KP781 is a premium Product so aerofit should target high income and more motivation towards fitness \n",
    "# 2. People aging b/w 20-26 are more likly to buy treadmill so aerofit can target them\n",
    "# 3. Married people are more inclined towards fitness so aerofit should target them more and more\n",
    "# 4. there are more number of customer from lower to mid income group and they like to buy KP281 and there are more number of people whose fitness level is not too high and people from both these category likes to buy KP281 so aerofit must maintain good stock of KP281 as there is high probability of people wanting this over other treadmill\n",
    "# 5. People with Salary more than 90000 do not like to buy any other treadmill except KP781 so we can reach one to one as their numbers are very less \n"
   ]
  },
  {
   "cell_type": "code",
   "execution_count": null,
   "id": "2625ad13",
   "metadata": {},
   "outputs": [],
   "source": []
  },
  {
   "cell_type": "code",
   "execution_count": null,
   "id": "5242ee84",
   "metadata": {},
   "outputs": [],
   "source": []
  }
 ],
 "metadata": {
  "kernelspec": {
   "display_name": "Python 3 (ipykernel)",
   "language": "python",
   "name": "python3"
  },
  "language_info": {
   "codemirror_mode": {
    "name": "ipython",
    "version": 3
   },
   "file_extension": ".py",
   "mimetype": "text/x-python",
   "name": "python",
   "nbconvert_exporter": "python",
   "pygments_lexer": "ipython3",
   "version": "3.9.12"
  }
 },
 "nbformat": 4,
 "nbformat_minor": 5
}
