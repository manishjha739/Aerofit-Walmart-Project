{
 "cells": [
  {
   "cell_type": "markdown",
   "id": "baddf7b2",
   "metadata": {},
   "source": [
    "# Importing libraries "
   ]
  },
  {
   "cell_type": "code",
   "execution_count": 1,
   "id": "8fcd5f85",
   "metadata": {},
   "outputs": [],
   "source": [
    "import numpy as np\n",
    "import pandas as pd\n",
    "import matplotlib.pyplot as plt \n",
    "import seaborn as sns"
   ]
  },
  {
   "cell_type": "markdown",
   "id": "e97c823e",
   "metadata": {},
   "source": [
    "# loading dataset"
   ]
  },
  {
   "cell_type": "code",
   "execution_count": 2,
   "id": "e1c126df",
   "metadata": {},
   "outputs": [
    {
     "data": {
      "text/html": [
       "<div>\n",
       "<style scoped>\n",
       "    .dataframe tbody tr th:only-of-type {\n",
       "        vertical-align: middle;\n",
       "    }\n",
       "\n",
       "    .dataframe tbody tr th {\n",
       "        vertical-align: top;\n",
       "    }\n",
       "\n",
       "    .dataframe thead th {\n",
       "        text-align: right;\n",
       "    }\n",
       "</style>\n",
       "<table border=\"1\" class=\"dataframe\">\n",
       "  <thead>\n",
       "    <tr style=\"text-align: right;\">\n",
       "      <th></th>\n",
       "      <th>User_ID</th>\n",
       "      <th>Product_ID</th>\n",
       "      <th>Gender</th>\n",
       "      <th>Age</th>\n",
       "      <th>Occupation</th>\n",
       "      <th>City_Category</th>\n",
       "      <th>Stay_In_Current_City_Years</th>\n",
       "      <th>Marital_Status</th>\n",
       "      <th>Product_Category</th>\n",
       "      <th>Purchase</th>\n",
       "    </tr>\n",
       "  </thead>\n",
       "  <tbody>\n",
       "    <tr>\n",
       "      <th>0</th>\n",
       "      <td>1000001</td>\n",
       "      <td>P00069042</td>\n",
       "      <td>F</td>\n",
       "      <td>0-17</td>\n",
       "      <td>10</td>\n",
       "      <td>A</td>\n",
       "      <td>2</td>\n",
       "      <td>0</td>\n",
       "      <td>3</td>\n",
       "      <td>8370</td>\n",
       "    </tr>\n",
       "    <tr>\n",
       "      <th>1</th>\n",
       "      <td>1000001</td>\n",
       "      <td>P00248942</td>\n",
       "      <td>F</td>\n",
       "      <td>0-17</td>\n",
       "      <td>10</td>\n",
       "      <td>A</td>\n",
       "      <td>2</td>\n",
       "      <td>0</td>\n",
       "      <td>1</td>\n",
       "      <td>15200</td>\n",
       "    </tr>\n",
       "    <tr>\n",
       "      <th>2</th>\n",
       "      <td>1000001</td>\n",
       "      <td>P00087842</td>\n",
       "      <td>F</td>\n",
       "      <td>0-17</td>\n",
       "      <td>10</td>\n",
       "      <td>A</td>\n",
       "      <td>2</td>\n",
       "      <td>0</td>\n",
       "      <td>12</td>\n",
       "      <td>1422</td>\n",
       "    </tr>\n",
       "    <tr>\n",
       "      <th>3</th>\n",
       "      <td>1000001</td>\n",
       "      <td>P00085442</td>\n",
       "      <td>F</td>\n",
       "      <td>0-17</td>\n",
       "      <td>10</td>\n",
       "      <td>A</td>\n",
       "      <td>2</td>\n",
       "      <td>0</td>\n",
       "      <td>12</td>\n",
       "      <td>1057</td>\n",
       "    </tr>\n",
       "    <tr>\n",
       "      <th>4</th>\n",
       "      <td>1000002</td>\n",
       "      <td>P00285442</td>\n",
       "      <td>M</td>\n",
       "      <td>55+</td>\n",
       "      <td>16</td>\n",
       "      <td>C</td>\n",
       "      <td>4+</td>\n",
       "      <td>0</td>\n",
       "      <td>8</td>\n",
       "      <td>7969</td>\n",
       "    </tr>\n",
       "  </tbody>\n",
       "</table>\n",
       "</div>"
      ],
      "text/plain": [
       "   User_ID Product_ID Gender   Age  Occupation City_Category  \\\n",
       "0  1000001  P00069042      F  0-17          10             A   \n",
       "1  1000001  P00248942      F  0-17          10             A   \n",
       "2  1000001  P00087842      F  0-17          10             A   \n",
       "3  1000001  P00085442      F  0-17          10             A   \n",
       "4  1000002  P00285442      M   55+          16             C   \n",
       "\n",
       "  Stay_In_Current_City_Years  Marital_Status  Product_Category  Purchase  \n",
       "0                          2               0                 3      8370  \n",
       "1                          2               0                 1     15200  \n",
       "2                          2               0                12      1422  \n",
       "3                          2               0                12      1057  \n",
       "4                         4+               0                 8      7969  "
      ]
     },
     "execution_count": 2,
     "metadata": {},
     "output_type": "execute_result"
    }
   ],
   "source": [
    "df = pd.read_csv('walmart_data.txt')\n",
    "df.head()"
   ]
  },
  {
   "cell_type": "markdown",
   "id": "c4b9f3b4",
   "metadata": {},
   "source": [
    "# Checking shape of dataframe"
   ]
  },
  {
   "cell_type": "code",
   "execution_count": 3,
   "id": "450016eb",
   "metadata": {},
   "outputs": [
    {
     "data": {
      "text/plain": [
       "(550068, 10)"
      ]
     },
     "execution_count": 3,
     "metadata": {},
     "output_type": "execute_result"
    }
   ],
   "source": [
    "df.shape"
   ]
  },
  {
   "cell_type": "markdown",
   "id": "08f28b46",
   "metadata": {},
   "source": [
    "# Checking column datatype and info"
   ]
  },
  {
   "cell_type": "code",
   "execution_count": 4,
   "id": "c1e3dad1",
   "metadata": {},
   "outputs": [
    {
     "name": "stdout",
     "output_type": "stream",
     "text": [
      "<class 'pandas.core.frame.DataFrame'>\n",
      "RangeIndex: 550068 entries, 0 to 550067\n",
      "Data columns (total 10 columns):\n",
      " #   Column                      Non-Null Count   Dtype \n",
      "---  ------                      --------------   ----- \n",
      " 0   User_ID                     550068 non-null  int64 \n",
      " 1   Product_ID                  550068 non-null  object\n",
      " 2   Gender                      550068 non-null  object\n",
      " 3   Age                         550068 non-null  object\n",
      " 4   Occupation                  550068 non-null  int64 \n",
      " 5   City_Category               550068 non-null  object\n",
      " 6   Stay_In_Current_City_Years  550068 non-null  object\n",
      " 7   Marital_Status              550068 non-null  int64 \n",
      " 8   Product_Category            550068 non-null  int64 \n",
      " 9   Purchase                    550068 non-null  int64 \n",
      "dtypes: int64(5), object(5)\n",
      "memory usage: 42.0+ MB\n"
     ]
    }
   ],
   "source": [
    "df.info()"
   ]
  },
  {
   "cell_type": "markdown",
   "id": "dca6fa38",
   "metadata": {},
   "source": [
    "# Statistical summary of numeracial coulmns"
   ]
  },
  {
   "cell_type": "code",
   "execution_count": 5,
   "id": "652436ba",
   "metadata": {},
   "outputs": [
    {
     "data": {
      "text/html": [
       "<div>\n",
       "<style scoped>\n",
       "    .dataframe tbody tr th:only-of-type {\n",
       "        vertical-align: middle;\n",
       "    }\n",
       "\n",
       "    .dataframe tbody tr th {\n",
       "        vertical-align: top;\n",
       "    }\n",
       "\n",
       "    .dataframe thead th {\n",
       "        text-align: right;\n",
       "    }\n",
       "</style>\n",
       "<table border=\"1\" class=\"dataframe\">\n",
       "  <thead>\n",
       "    <tr style=\"text-align: right;\">\n",
       "      <th></th>\n",
       "      <th>User_ID</th>\n",
       "      <th>Occupation</th>\n",
       "      <th>Marital_Status</th>\n",
       "      <th>Product_Category</th>\n",
       "      <th>Purchase</th>\n",
       "    </tr>\n",
       "  </thead>\n",
       "  <tbody>\n",
       "    <tr>\n",
       "      <th>count</th>\n",
       "      <td>5.500680e+05</td>\n",
       "      <td>550068.000000</td>\n",
       "      <td>550068.000000</td>\n",
       "      <td>550068.000000</td>\n",
       "      <td>550068.000000</td>\n",
       "    </tr>\n",
       "    <tr>\n",
       "      <th>mean</th>\n",
       "      <td>1.003029e+06</td>\n",
       "      <td>8.076707</td>\n",
       "      <td>0.409653</td>\n",
       "      <td>5.404270</td>\n",
       "      <td>9263.968713</td>\n",
       "    </tr>\n",
       "    <tr>\n",
       "      <th>std</th>\n",
       "      <td>1.727592e+03</td>\n",
       "      <td>6.522660</td>\n",
       "      <td>0.491770</td>\n",
       "      <td>3.936211</td>\n",
       "      <td>5023.065394</td>\n",
       "    </tr>\n",
       "    <tr>\n",
       "      <th>min</th>\n",
       "      <td>1.000001e+06</td>\n",
       "      <td>0.000000</td>\n",
       "      <td>0.000000</td>\n",
       "      <td>1.000000</td>\n",
       "      <td>12.000000</td>\n",
       "    </tr>\n",
       "    <tr>\n",
       "      <th>25%</th>\n",
       "      <td>1.001516e+06</td>\n",
       "      <td>2.000000</td>\n",
       "      <td>0.000000</td>\n",
       "      <td>1.000000</td>\n",
       "      <td>5823.000000</td>\n",
       "    </tr>\n",
       "    <tr>\n",
       "      <th>50%</th>\n",
       "      <td>1.003077e+06</td>\n",
       "      <td>7.000000</td>\n",
       "      <td>0.000000</td>\n",
       "      <td>5.000000</td>\n",
       "      <td>8047.000000</td>\n",
       "    </tr>\n",
       "    <tr>\n",
       "      <th>75%</th>\n",
       "      <td>1.004478e+06</td>\n",
       "      <td>14.000000</td>\n",
       "      <td>1.000000</td>\n",
       "      <td>8.000000</td>\n",
       "      <td>12054.000000</td>\n",
       "    </tr>\n",
       "    <tr>\n",
       "      <th>max</th>\n",
       "      <td>1.006040e+06</td>\n",
       "      <td>20.000000</td>\n",
       "      <td>1.000000</td>\n",
       "      <td>20.000000</td>\n",
       "      <td>23961.000000</td>\n",
       "    </tr>\n",
       "  </tbody>\n",
       "</table>\n",
       "</div>"
      ],
      "text/plain": [
       "            User_ID     Occupation  Marital_Status  Product_Category  \\\n",
       "count  5.500680e+05  550068.000000   550068.000000     550068.000000   \n",
       "mean   1.003029e+06       8.076707        0.409653          5.404270   \n",
       "std    1.727592e+03       6.522660        0.491770          3.936211   \n",
       "min    1.000001e+06       0.000000        0.000000          1.000000   \n",
       "25%    1.001516e+06       2.000000        0.000000          1.000000   \n",
       "50%    1.003077e+06       7.000000        0.000000          5.000000   \n",
       "75%    1.004478e+06      14.000000        1.000000          8.000000   \n",
       "max    1.006040e+06      20.000000        1.000000         20.000000   \n",
       "\n",
       "            Purchase  \n",
       "count  550068.000000  \n",
       "mean     9263.968713  \n",
       "std      5023.065394  \n",
       "min        12.000000  \n",
       "25%      5823.000000  \n",
       "50%      8047.000000  \n",
       "75%     12054.000000  \n",
       "max     23961.000000  "
      ]
     },
     "execution_count": 5,
     "metadata": {},
     "output_type": "execute_result"
    }
   ],
   "source": [
    "df.describe()"
   ]
  },
  {
   "cell_type": "markdown",
   "id": "81215e41",
   "metadata": {},
   "source": [
    "# Checking for missing values \n",
    "# dataset has zero missing values"
   ]
  },
  {
   "cell_type": "code",
   "execution_count": 6,
   "id": "ecba3b9c",
   "metadata": {},
   "outputs": [
    {
     "data": {
      "text/plain": [
       "User_ID                       0\n",
       "Product_ID                    0\n",
       "Gender                        0\n",
       "Age                           0\n",
       "Occupation                    0\n",
       "City_Category                 0\n",
       "Stay_In_Current_City_Years    0\n",
       "Marital_Status                0\n",
       "Product_Category              0\n",
       "Purchase                      0\n",
       "dtype: int64"
      ]
     },
     "execution_count": 6,
     "metadata": {},
     "output_type": "execute_result"
    }
   ],
   "source": [
    "df.isnull().sum()"
   ]
  },
  {
   "cell_type": "markdown",
   "id": "33b4aeae",
   "metadata": {},
   "source": [
    "# Checking correlation between columns\n",
    "# strong relation is not present between any two columns"
   ]
  },
  {
   "cell_type": "code",
   "execution_count": 7,
   "id": "ba0e2caf",
   "metadata": {},
   "outputs": [
    {
     "data": {
      "text/plain": [
       "<AxesSubplot:>"
      ]
     },
     "execution_count": 7,
     "metadata": {},
     "output_type": "execute_result"
    },
    {
     "data": {
      "image/png": "[encoded data removed]",
      "text/plain": [
       "<Figure size 576x432 with 2 Axes>"
      ]
     },
     "metadata": {
      "needs_background": "light"
     },
     "output_type": "display_data"
    }
   ],
   "source": [
    "plt.figure(figsize = (8,6))\n",
    "sns.heatmap(df.corr(), annot = True)"
   ]
  },
  {
   "cell_type": "code",
   "execution_count": 8,
   "id": "9a841357",
   "metadata": {},
   "outputs": [
    {
     "data": {
      "text/plain": [
       "Index(['User_ID', 'Product_ID', 'Gender', 'Age', 'Occupation', 'City_Category',\n",
       "       'Stay_In_Current_City_Years', 'Marital_Status', 'Product_Category',\n",
       "       'Purchase'],\n",
       "      dtype='object')"
      ]
     },
     "execution_count": 8,
     "metadata": {},
     "output_type": "execute_result"
    }
   ],
   "source": [
    "df.columns"
   ]
  },
  {
   "cell_type": "markdown",
   "id": "c115daba",
   "metadata": {},
   "source": [
    "# Renaming stay_in_current_city_years to staying_years "
   ]
  },
  {
   "cell_type": "code",
   "execution_count": 9,
   "id": "5dbe32b4",
   "metadata": {},
   "outputs": [
    {
     "data": {
      "text/html": [
       "<div>\n",
       "<style scoped>\n",
       "    .dataframe tbody tr th:only-of-type {\n",
       "        vertical-align: middle;\n",
       "    }\n",
       "\n",
       "    .dataframe tbody tr th {\n",
       "        vertical-align: top;\n",
       "    }\n",
       "\n",
       "    .dataframe thead th {\n",
       "        text-align: right;\n",
       "    }\n",
       "</style>\n",
       "<table border=\"1\" class=\"dataframe\">\n",
       "  <thead>\n",
       "    <tr style=\"text-align: right;\">\n",
       "      <th></th>\n",
       "      <th>User_ID</th>\n",
       "      <th>Product_ID</th>\n",
       "      <th>Gender</th>\n",
       "      <th>Age</th>\n",
       "      <th>Occupation</th>\n",
       "      <th>City_Category</th>\n",
       "      <th>staying_for_years</th>\n",
       "      <th>Marital_Status</th>\n",
       "      <th>Product_Category</th>\n",
       "      <th>Purchase</th>\n",
       "    </tr>\n",
       "  </thead>\n",
       "  <tbody>\n",
       "    <tr>\n",
       "      <th>0</th>\n",
       "      <td>1000001</td>\n",
       "      <td>P00069042</td>\n",
       "      <td>F</td>\n",
       "      <td>0-17</td>\n",
       "      <td>10</td>\n",
       "      <td>A</td>\n",
       "      <td>2</td>\n",
       "      <td>0</td>\n",
       "      <td>3</td>\n",
       "      <td>8370</td>\n",
       "    </tr>\n",
       "    <tr>\n",
       "      <th>1</th>\n",
       "      <td>1000001</td>\n",
       "      <td>P00248942</td>\n",
       "      <td>F</td>\n",
       "      <td>0-17</td>\n",
       "      <td>10</td>\n",
       "      <td>A</td>\n",
       "      <td>2</td>\n",
       "      <td>0</td>\n",
       "      <td>1</td>\n",
       "      <td>15200</td>\n",
       "    </tr>\n",
       "    <tr>\n",
       "      <th>2</th>\n",
       "      <td>1000001</td>\n",
       "      <td>P00087842</td>\n",
       "      <td>F</td>\n",
       "      <td>0-17</td>\n",
       "      <td>10</td>\n",
       "      <td>A</td>\n",
       "      <td>2</td>\n",
       "      <td>0</td>\n",
       "      <td>12</td>\n",
       "      <td>1422</td>\n",
       "    </tr>\n",
       "    <tr>\n",
       "      <th>3</th>\n",
       "      <td>1000001</td>\n",
       "      <td>P00085442</td>\n",
       "      <td>F</td>\n",
       "      <td>0-17</td>\n",
       "      <td>10</td>\n",
       "      <td>A</td>\n",
       "      <td>2</td>\n",
       "      <td>0</td>\n",
       "      <td>12</td>\n",
       "      <td>1057</td>\n",
       "    </tr>\n",
       "    <tr>\n",
       "      <th>4</th>\n",
       "      <td>1000002</td>\n",
       "      <td>P00285442</td>\n",
       "      <td>M</td>\n",
       "      <td>55+</td>\n",
       "      <td>16</td>\n",
       "      <td>C</td>\n",
       "      <td>4+</td>\n",
       "      <td>0</td>\n",
       "      <td>8</td>\n",
       "      <td>7969</td>\n",
       "    </tr>\n",
       "  </tbody>\n",
       "</table>\n",
       "</div>"
      ],
      "text/plain": [
       "   User_ID Product_ID Gender   Age  Occupation City_Category  \\\n",
       "0  1000001  P00069042      F  0-17          10             A   \n",
       "1  1000001  P00248942      F  0-17          10             A   \n",
       "2  1000001  P00087842      F  0-17          10             A   \n",
       "3  1000001  P00085442      F  0-17          10             A   \n",
       "4  1000002  P00285442      M   55+          16             C   \n",
       "\n",
       "  staying_for_years  Marital_Status  Product_Category  Purchase  \n",
       "0                 2               0                 3      8370  \n",
       "1                 2               0                 1     15200  \n",
       "2                 2               0                12      1422  \n",
       "3                 2               0                12      1057  \n",
       "4                4+               0                 8      7969  "
      ]
     },
     "execution_count": 9,
     "metadata": {},
     "output_type": "execute_result"
    }
   ],
   "source": [
    "df.rename({'Stay_In_Current_City_Years':'staying_for_years'},axis = 1,inplace=True)\n",
    "df.head()"
   ]
  },
  {
   "cell_type": "markdown",
   "id": "308a0537",
   "metadata": {},
   "source": [
    "# Checking fot outliers in Purchase \n",
    "# Purchase columns has sum outliers "
   ]
  },
  {
   "cell_type": "code",
   "execution_count": 10,
   "id": "825469d9",
   "metadata": {},
   "outputs": [
    {
     "data": {
      "text/plain": [
       "<AxesSubplot:ylabel='Purchase'>"
      ]
     },
     "execution_count": 10,
     "metadata": {},
     "output_type": "execute_result"
    },
    {
     "data": {
      "image/png": "[encoded data removed]",
      "text/plain": [
       "<Figure size 720x576 with 1 Axes>"
      ]
     },
     "metadata": {
      "needs_background": "light"
     },
     "output_type": "display_data"
    }
   ],
   "source": [
    "plt.figure(figsize = (10,8))\n",
    "sns.boxplot(y = df['Purchase'])"
   ]
  },
  {
   "cell_type": "markdown",
   "id": "a9f75971",
   "metadata": {},
   "source": [
    "# Count of customer based on Gender and Marital Status\n",
    "# Insights\n",
    "## Men are more likly to do online shopping and being it men or women singles are mofre buying if compared with married"
   ]
  },
  {
   "cell_type": "code",
   "execution_count": 11,
   "id": "2ad89f5b",
   "metadata": {},
   "outputs": [
    {
     "name": "stderr",
     "output_type": "stream",
     "text": [
      "C:\\Users\\Manish\\anaconda3\\lib\\site-packages\\seaborn\\_decorators.py:36: FutureWarning: Pass the following variable as a keyword arg: x. From version 0.12, the only valid positional argument will be `data`, and passing other arguments without an explicit keyword will result in an error or misinterpretation.\n",
      "  warnings.warn(\n"
     ]
    },
    {
     "data": {
      "text/plain": [
       "<AxesSubplot:xlabel='Gender', ylabel='count'>"
      ]
     },
     "execution_count": 11,
     "metadata": {},
     "output_type": "execute_result"
    },
    {
     "data": {
      "image/png": "[encoded data removed]",
      "text/plain": [
       "<Figure size 432x288 with 1 Axes>"
      ]
     },
     "metadata": {
      "needs_background": "light"
     },
     "output_type": "display_data"
    }
   ],
   "source": [
    "sns.countplot('Gender',hue = 'Marital_Status', data =df)"
   ]
  },
  {
   "cell_type": "markdown",
   "id": "5413dc58",
   "metadata": {},
   "source": [
    "# Sum of purchase amount based on Gender"
   ]
  },
  {
   "cell_type": "code",
   "execution_count": 12,
   "id": "3a29d0f8",
   "metadata": {},
   "outputs": [],
   "source": [
    "a = df.groupby(['Gender'])['Purchase'].sum().reset_index()"
   ]
  },
  {
   "cell_type": "code",
   "execution_count": 13,
   "id": "0715f0a3",
   "metadata": {},
   "outputs": [
    {
     "data": {
      "text/plain": [
       "([<matplotlib.patches.Wedge at 0x121729e1400>,\n",
       "  <matplotlib.patches.Wedge at 0x121729e18e0>],\n",
       " [Text(0.8187242411952669, 0.7346363841243058, 'F'),\n",
       "  Text(-0.818724206804455, -0.7346364224515527, 'M')])"
      ]
     },
     "execution_count": 13,
     "metadata": {},
     "output_type": "execute_result"
    },
    {
     "data": {
      "image/png": "[encoded data removed]",
      "text/plain": [
       "<Figure size 432x288 with 1 Axes>"
      ]
     },
     "metadata": {},
     "output_type": "display_data"
    }
   ],
   "source": [
    "plt.pie(x = a['Purchase'], labels= a['Gender'])"
   ]
  },
  {
   "cell_type": "markdown",
   "id": "15597914",
   "metadata": {},
   "source": [
    "# It can be seen that people of age between 26-35 are more active buyers "
   ]
  },
  {
   "cell_type": "code",
   "execution_count": 14,
   "id": "d11c01ca",
   "metadata": {},
   "outputs": [
    {
     "data": {
      "text/plain": [
       "<AxesSubplot:xlabel='Age', ylabel='Count'>"
      ]
     },
     "execution_count": 14,
     "metadata": {},
     "output_type": "execute_result"
    },
    {
     "data": {
      "image/png": "[encoded data removed]",
      "text/plain": [
       "<Figure size 432x288 with 1 Axes>"
      ]
     },
     "metadata": {
      "needs_background": "light"
     },
     "output_type": "display_data"
    }
   ],
   "source": [
    "sns.histplot(df['Age'], bins = 20)"
   ]
  },
  {
   "cell_type": "markdown",
   "id": "4c0cb7d4",
   "metadata": {},
   "source": [
    "# which product category is more popular\n",
    "# Insight\n",
    "## It can be seen from below grapgh that product category 1 & 5 are most popular among all products"
   ]
  },
  {
   "cell_type": "code",
   "execution_count": 15,
   "id": "5c607042",
   "metadata": {},
   "outputs": [
    {
     "name": "stderr",
     "output_type": "stream",
     "text": [
      "C:\\Users\\Manish\\anaconda3\\lib\\site-packages\\seaborn\\_decorators.py:36: FutureWarning: Pass the following variable as a keyword arg: x. From version 0.12, the only valid positional argument will be `data`, and passing other arguments without an explicit keyword will result in an error or misinterpretation.\n",
      "  warnings.warn(\n"
     ]
    },
    {
     "data": {
      "text/plain": [
       "<AxesSubplot:xlabel='Product_Category', ylabel='count'>"
      ]
     },
     "execution_count": 15,
     "metadata": {},
     "output_type": "execute_result"
    },
    {
     "data": {
      "image/png": "[encoded data removed]",
      "text/plain": [
       "<Figure size 432x288 with 1 Axes>"
      ]
     },
     "metadata": {
      "needs_background": "light"
     },
     "output_type": "display_data"
    }
   ],
   "source": [
    "sns.countplot(df['Product_Category'])"
   ]
  },
  {
   "cell_type": "markdown",
   "id": "e8f46610",
   "metadata": {},
   "source": [
    "# Product Category 1 contributes in maximum purchase amount"
   ]
  },
  {
   "cell_type": "code",
   "execution_count": 16,
   "id": "d05100fd",
   "metadata": {},
   "outputs": [],
   "source": [
    "b = df.groupby(['Product_Category'])['Purchase'].sum().sort_values().reset_index()"
   ]
  },
  {
   "cell_type": "code",
   "execution_count": 17,
   "id": "c1bfcf0c",
   "metadata": {},
   "outputs": [
    {
     "data": {
      "text/plain": [
       "<AxesSubplot:xlabel='Product_Category', ylabel='Purchase'>"
      ]
     },
     "execution_count": 17,
     "metadata": {},
     "output_type": "execute_result"
    },
    {
     "data": {
      "image/png": "[encoded data removed]",
      "text/plain": [
       "<Figure size 432x288 with 1 Axes>"
      ]
     },
     "metadata": {
      "needs_background": "light"
     },
     "output_type": "display_data"
    }
   ],
   "source": [
    "sns.lineplot(x = b['Product_Category'], y = b['Purchase'])"
   ]
  },
  {
   "cell_type": "markdown",
   "id": "ad9c84b2",
   "metadata": {},
   "source": [
    "# Count of customers based on Staying year in a city and City Category\n",
    "# Insights\n",
    "## People staying for 1 year and people who are from B category city has more purchases "
   ]
  },
  {
   "cell_type": "code",
   "execution_count": 18,
   "id": "0ce11338",
   "metadata": {},
   "outputs": [
    {
     "name": "stderr",
     "output_type": "stream",
     "text": [
      "C:\\Users\\Manish\\anaconda3\\lib\\site-packages\\seaborn\\_decorators.py:36: FutureWarning: Pass the following variable as a keyword arg: x. From version 0.12, the only valid positional argument will be `data`, and passing other arguments without an explicit keyword will result in an error or misinterpretation.\n",
      "  warnings.warn(\n"
     ]
    },
    {
     "data": {
      "text/plain": [
       "<AxesSubplot:xlabel='staying_for_years', ylabel='count'>"
      ]
     },
     "execution_count": 18,
     "metadata": {},
     "output_type": "execute_result"
    },
    {
     "data": {
      "image/png": "[encoded data removed]",
      "text/plain": [
       "<Figure size 432x288 with 1 Axes>"
      ]
     },
     "metadata": {
      "needs_background": "light"
     },
     "output_type": "display_data"
    }
   ],
   "source": [
    "sns.countplot(df['staying_for_years'],hue = df['City_Category'], color = 'green')"
   ]
  },
  {
   "cell_type": "code",
   "execution_count": 19,
   "id": "82cce567",
   "metadata": {},
   "outputs": [],
   "source": [
    "d = df.groupby(['User_ID','Gender'])['Purchase'].sum().sort_values(ascending = False).reset_index()[:11]"
   ]
  },
  {
   "cell_type": "code",
   "execution_count": 20,
   "id": "356af6b9",
   "metadata": {},
   "outputs": [
    {
     "data": {
      "text/plain": [
       "(array([ 0,  1,  2,  3,  4,  5,  6,  7,  8,  9, 10]),\n",
       " [Text(0, 0, '1000424'),\n",
       "  Text(1, 0, '1000549'),\n",
       "  Text(2, 0, '1001015'),\n",
       "  Text(3, 0, '1001181'),\n",
       "  Text(4, 0, '1001680'),\n",
       "  Text(5, 0, '1001941'),\n",
       "  Text(6, 0, '1002909'),\n",
       "  Text(7, 0, '1003391'),\n",
       "  Text(8, 0, '1004277'),\n",
       "  Text(9, 0, '1004448'),\n",
       "  Text(10, 0, '1005831')])"
      ]
     },
     "execution_count": 20,
     "metadata": {},
     "output_type": "execute_result"
    },
    {
     "data": {
      "image/png": "[encoded data removed]",
      "text/plain": [
       "<Figure size 432x288 with 1 Axes>"
      ]
     },
     "metadata": {
      "needs_background": "light"
     },
     "output_type": "display_data"
    }
   ],
   "source": [
    "sns.barplot(x = d['User_ID'],y = d['Purchase'])\n",
    "plt.xticks(rotation=90)"
   ]
  },
  {
   "cell_type": "markdown",
   "id": "c4122ba5",
   "metadata": {},
   "source": [
    "# Average Mean of sample of 1000 is near to population mean "
   ]
  },
  {
   "cell_type": "code",
   "execution_count": 21,
   "id": "b6cd5c68",
   "metadata": {},
   "outputs": [],
   "source": [
    "male_expense_mean = df[df['Gender'] == 'M']"
   ]
  },
  {
   "cell_type": "code",
   "execution_count": 22,
   "id": "d51b9f07",
   "metadata": {},
   "outputs": [],
   "source": [
    "sample = 1000\n",
    "n = 1000\n",
    "male_means = []\n",
    "for i in range(n):\n",
    "    male_mean = male_expense_mean.sample(sample, replace = True)['Purchase'].mean()\n",
    "    male_means.append(male_mean)"
   ]
  },
  {
   "cell_type": "code",
   "execution_count": 23,
   "id": "afb3dc3d",
   "metadata": {},
   "outputs": [
    {
     "data": {
      "text/plain": [
       "(array([ 2.,  0.,  0.,  0.,  2.,  3.,  4.,  4., 11., 16., 26., 23., 33.,\n",
       "        44., 67., 62., 60., 60., 75., 69., 61., 62., 76., 48., 50., 29.,\n",
       "        30., 21., 19., 13., 11.,  9.,  4.,  4.,  2.]),\n",
       " array([8885.563     , 8914.18411429, 8942.80522857, 8971.42634286,\n",
       "        9000.04745714, 9028.66857143, 9057.28968571, 9085.9108    ,\n",
       "        9114.53191429, 9143.15302857, 9171.77414286, 9200.39525714,\n",
       "        9229.01637143, 9257.63748571, 9286.2586    , 9314.87971429,\n",
       "        9343.50082857, 9372.12194286, 9400.74305714, 9429.36417143,\n",
       "        9457.98528571, 9486.6064    , 9515.22751429, 9543.84862857,\n",
       "        9572.46974286, 9601.09085714, 9629.71197143, 9658.33308571,\n",
       "        9686.9542    , 9715.57531429, 9744.19642857, 9772.81754286,\n",
       "        9801.43865714, 9830.05977143, 9858.68088571, 9887.302     ]),\n",
       " <BarContainer object of 35 artists>)"
      ]
     },
     "execution_count": 23,
     "metadata": {},
     "output_type": "execute_result"
    },
    {
     "data": {
      "image/png": "[encoded data removed]",
      "text/plain": [
       "<Figure size 432x288 with 1 Axes>"
      ]
     },
     "metadata": {
      "needs_background": "light"
     },
     "output_type": "display_data"
    }
   ],
   "source": [
    "plt.hist(male_means, bins=35)"
   ]
  },
  {
   "cell_type": "markdown",
   "id": "02d6aa6a",
   "metadata": {},
   "source": [
    "# Average Mean of sample of 10000 Female is near to population mean"
   ]
  },
  {
   "cell_type": "code",
   "execution_count": 27,
   "id": "3b76f797",
   "metadata": {},
   "outputs": [
    {
     "data": {
      "text/plain": [
       "(array([  1.,   1.,   4.,  12.,  13.,  19.,  38.,  72., 119., 172., 252.,\n",
       "        331., 466., 573., 671., 779., 820., 825., 918., 787., 717., 647.,\n",
       "        501., 393., 306., 207., 155.,  91.,  59.,  29.,  15.,   4.,   1.,\n",
       "          1.,   1.]),\n",
       " array([8548.2342 , 8558.73152, 8569.22884, 8579.72616, 8590.22348,\n",
       "        8600.7208 , 8611.21812, 8621.71544, 8632.21276, 8642.71008,\n",
       "        8653.2074 , 8663.70472, 8674.20204, 8684.69936, 8695.19668,\n",
       "        8705.694  , 8716.19132, 8726.68864, 8737.18596, 8747.68328,\n",
       "        8758.1806 , 8768.67792, 8779.17524, 8789.67256, 8800.16988,\n",
       "        8810.6672 , 8821.16452, 8831.66184, 8842.15916, 8852.65648,\n",
       "        8863.1538 , 8873.65112, 8884.14844, 8894.64576, 8905.14308,\n",
       "        8915.6404 ]),\n",
       " <BarContainer object of 35 artists>)"
      ]
     },
     "execution_count": 27,
     "metadata": {},
     "output_type": "execute_result"
    },
    {
     "data": {
      "image/png": "[encoded data removed]",
      "text/plain": [
       "<Figure size 432x288 with 1 Axes>"
      ]
     },
     "metadata": {
      "needs_background": "light"
     },
     "output_type": "display_data"
    }
   ],
   "source": [
    "female_expense_mean = df[df['Gender'] == 'F']\n",
    "sample = 10000\n",
    "n = 10000\n",
    "female_means = []\n",
    "for i in range(n):\n",
    "    female_mean = female_expense_mean.sample(sample, replace = True)['Purchase'].mean()\n",
    "    female_means.append(female_mean)\n",
    "plt.hist(female_means, bins=35, color = 'green')"
   ]
  },
  {
   "cell_type": "markdown",
   "id": "22f999f7",
   "metadata": {},
   "source": [
    "# Sample mean of Married and single are near Population mean"
   ]
  },
  {
   "cell_type": "code",
   "execution_count": 28,
   "id": "ebd146a7",
   "metadata": {},
   "outputs": [
    {
     "data": {
      "text/plain": [
       "(array([  1.,   0.,   1.,   3.,   6.,   9.,  16.,  22.,  64.,  95., 153.,\n",
       "        243., 295., 435., 562., 718., 827., 845., 975., 911., 874., 803.,\n",
       "        602., 488., 385., 255., 149., 113.,  53.,  51.,  26.,   6.,  10.,\n",
       "          3.,   1.]),\n",
       " array([9042.9715    , 9054.67714857, 9066.38279714, 9078.08844571,\n",
       "        9089.79409429, 9101.49974286, 9113.20539143, 9124.91104   ,\n",
       "        9136.61668857, 9148.32233714, 9160.02798571, 9171.73363429,\n",
       "        9183.43928286, 9195.14493143, 9206.85058   , 9218.55622857,\n",
       "        9230.26187714, 9241.96752571, 9253.67317429, 9265.37882286,\n",
       "        9277.08447143, 9288.79012   , 9300.49576857, 9312.20141714,\n",
       "        9323.90706571, 9335.61271429, 9347.31836286, 9359.02401143,\n",
       "        9370.72966   , 9382.43530857, 9394.14095714, 9405.84660571,\n",
       "        9417.55225429, 9429.25790286, 9440.96355143, 9452.6692    ]),\n",
       " <BarContainer object of 35 artists>)"
      ]
     },
     "execution_count": 28,
     "metadata": {},
     "output_type": "execute_result"
    },
    {
     "data": {
      "image/png": "[encoded data removed]",
      "text/plain": [
       "<Figure size 432x288 with 1 Axes>"
      ]
     },
     "metadata": {
      "needs_background": "light"
     },
     "output_type": "display_data"
    }
   ],
   "source": [
    "married_expense_mean = df[df['Marital_Status'] == 1]\n",
    "sample = 10000\n",
    "n = 10000\n",
    "married_means = []\n",
    "for i in range(n):\n",
    "    married_mean = married_expense_mean.sample(sample, replace = True)['Purchase'].mean()\n",
    "    married_means.append(married_mean)\n",
    "plt.hist(married_means, bins=35, color = 'green')"
   ]
  },
  {
   "cell_type": "code",
   "execution_count": 31,
   "id": "3a533447",
   "metadata": {},
   "outputs": [
    {
     "data": {
      "text/plain": [
       "(array([  1.,   6.,   5.,  16.,  25.,  42.,  70., 103., 161., 266., 366.,\n",
       "        495., 613., 811., 872., 884., 928., 860., 802., 687., 595., 462.,\n",
       "        324., 202., 163.,  98.,  66.,  43.,  16.,  11.,   3.,   2.,   1.,\n",
       "          0.,   1.]),\n",
       " array([9075.5192    , 9087.16177143, 9098.80434286, 9110.44691429,\n",
       "        9122.08948571, 9133.73205714, 9145.37462857, 9157.0172    ,\n",
       "        9168.65977143, 9180.30234286, 9191.94491429, 9203.58748571,\n",
       "        9215.23005714, 9226.87262857, 9238.5152    , 9250.15777143,\n",
       "        9261.80034286, 9273.44291429, 9285.08548571, 9296.72805714,\n",
       "        9308.37062857, 9320.0132    , 9331.65577143, 9343.29834286,\n",
       "        9354.94091429, 9366.58348571, 9378.22605714, 9389.86862857,\n",
       "        9401.5112    , 9413.15377143, 9424.79634286, 9436.43891429,\n",
       "        9448.08148571, 9459.72405714, 9471.36662857, 9483.0092    ]),\n",
       " <BarContainer object of 35 artists>)"
      ]
     },
     "execution_count": 31,
     "metadata": {},
     "output_type": "execute_result"
    },
    {
     "data": {
      "image/png": "[encoded data removed]",
      "text/plain": [
       "<Figure size 432x288 with 1 Axes>"
      ]
     },
     "metadata": {
      "needs_background": "light"
     },
     "output_type": "display_data"
    }
   ],
   "source": [
    "single_expense_mean = df[df['Marital_Status'] == 0]\n",
    "sample = 10000\n",
    "n = 10000\n",
    "single_means = []\n",
    "for i in range(n):\n",
    "    single_mean = single_expense_mean.sample(sample, replace = True)['Purchase'].mean()\n",
    "    single_means.append(single_mean)\n",
    "plt.hist(single_means, bins=35, color = 'orange')"
   ]
  },
  {
   "cell_type": "markdown",
   "id": "5f60e238",
   "metadata": {},
   "source": [
    "# Assumption Occupation is in Descending Order means 0 is higher post and 20 is lower grade Occupation\n",
    "# Occupation from 0-7 are major contributer in sales \n"
   ]
  },
  {
   "cell_type": "code",
   "execution_count": 39,
   "id": "5c6827ee",
   "metadata": {},
   "outputs": [
    {
     "data": {
      "text/plain": [
       "<AxesSubplot:xlabel='Occupation', ylabel='Purchase'>"
      ]
     },
     "execution_count": 39,
     "metadata": {},
     "output_type": "execute_result"
    },
    {
     "data": {
      "image/png": "[encoded data removed]",
      "text/plain": [
       "<Figure size 432x288 with 1 Axes>"
      ]
     },
     "metadata": {
      "needs_background": "light"
     },
     "output_type": "display_data"
    }
   ],
   "source": [
    "sns.barplot(x = d['Occupation'], y = d['Purchase'])"
   ]
  },
  {
   "cell_type": "markdown",
   "id": "6ecadb26",
   "metadata": {},
   "source": [
    "# Recommendations\n",
    "\n",
    "### Womens are buying much less in comparision to men so walmart should give purchase coupons or some lucrative offers to women customers\n",
    "### Apart from age window 26-35 age brcakets like 18-25 & 36-45 also having potential buyers so we can target these two groups by observing their buying patterns for better result\n",
    "### walmart can give discounts to people not belonging to heigher Occupation that is belongs to Occupation above 7 discounts will enhance their purchasing power\n",
    "### Married are contributing less in comparision to singles so walmart should recommend married people with mails which shows more and more household products "
   ]
  },
  {
   "cell_type": "code",
   "execution_count": null,
   "id": "e4e50de6",
   "metadata": {},
   "outputs": [],
   "source": []
  }
 ],
 "metadata": {
  "kernelspec": {
   "display_name": "Python 3 (ipykernel)",
   "language": "python",
   "name": "python3"
  },
  "language_info": {
   "codemirror_mode": {
    "name": "ipython",
    "version": 3
   },
   "file_extension": ".py",
   "mimetype": "text/x-python",
   "name": "python",
   "nbconvert_exporter": "python",
   "pygments_lexer": "ipython3",
   "version": "3.9.12"
  }
 },
 "nbformat": 4,
 "nbformat_minor": 5
}
